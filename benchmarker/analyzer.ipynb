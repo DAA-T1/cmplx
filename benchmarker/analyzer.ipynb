{
 "cells": [
  {
   "cell_type": "markdown",
   "metadata": {},
   "source": [
    "# This file has all the cool plotting code."
   ]
  },
  {
   "cell_type": "code",
   "execution_count": 113,
   "metadata": {},
   "outputs": [],
   "source": [
    "import os\n",
    "import pandas as pd\n",
    "import re\n",
    "from rich.console import Console\n",
    "from rich.table import Table\n",
    "import math"
   ]
  },
  {
   "cell_type": "code",
   "execution_count": 114,
   "metadata": {},
   "outputs": [],
   "source": [
    "console = Console()"
   ]
  },
  {
   "cell_type": "code",
   "execution_count": 115,
   "metadata": {},
   "outputs": [],
   "source": [
    "outfile_loc = \"output\""
   ]
  },
  {
   "cell_type": "code",
   "execution_count": 116,
   "metadata": {},
   "outputs": [],
   "source": [
    "heapdfs = {}\n",
    "quickdfs = {}"
   ]
  },
  {
   "cell_type": "code",
   "execution_count": 133,
   "metadata": {},
   "outputs": [],
   "source": [
    "for _, _, files in os.walk(outfile_loc):\n",
    "    for file in files:\n",
    "\n",
    "        size = int(re.findall(r'size(\\d+)', file)[0])\n",
    "        manip_type = re.findall(r'\\d_(\\w+).txt', file)[0]\n",
    "\n",
    "        if \"_heap_\" in file:\n",
    "            if size not in heapdfs:\n",
    "                heapdfs[size] = {}\n",
    "                heapdfs[size][manip_type] = pd.read_csv(outfile_loc + \"/\" + file)\n",
    "            else:\n",
    "                heapdfs[size][manip_type] = pd.read_csv(outfile_loc + \"/\" + file)\n",
    "\n",
    "        elif \"_quick_\" in file:\n",
    "            \n",
    "            if size not in quickdfs:\n",
    "                quickdfs[size] = {}\n",
    "                quickdfs[size][manip_type] = pd.read_csv(outfile_loc + \"/\" + file)\n",
    "            else:\n",
    "                quickdfs[size][manip_type] = pd.read_csv(outfile_loc + \"/\" + file)\n",
    "                "
   ]
  },
  {
   "cell_type": "code",
   "execution_count": 134,
   "metadata": {},
   "outputs": [
    {
     "data": {
      "text/plain": [
       "(4, 4)"
      ]
     },
     "execution_count": 134,
     "metadata": {},
     "output_type": "execute_result"
    }
   ],
   "source": [
    "len(heapdfs), len(quickdfs)"
   ]
  },
  {
   "cell_type": "code",
   "execution_count": 135,
   "metadata": {},
   "outputs": [],
   "source": [
    "def pretty_print_data(dfs, size):\n",
    "\n",
    "    table = Table(title=f\"Size {size} | n log n: {round(size * math.log(size, 2), 4)} | 1.5 n log n: {round(size * 1.5 * math.log(size, 2), 4)}\")\n",
    "    table.add_column(\"\")\n",
    "    table.add_column(\"Sorted\")\n",
    "    table.add_column(\"Reverse\")\n",
    "    table.add_column(\"Random Shuffle\")\n",
    "    table.add_row(\"Comparisons\", str(dfs[size]['sorted'][\"comparison_count\"].mean()), str(dfs[size]['reverse'][\"comparison_count\"].mean()), str(dfs[size]['shuffle'][\"comparison_count\"].mean()))\n",
    "    table.add_row(\"Time\", str(dfs[size]['sorted'][\"time\"].mean()), str(dfs[size]['reverse'][\"time\"].mean()), str(dfs[size]['shuffle'][\"time\"].mean()))\n",
    "\n",
    "    console.print(table)"
   ]
  },
  {
   "cell_type": "code",
   "execution_count": 136,
   "metadata": {},
   "outputs": [
    {
     "name": "stdout",
     "output_type": "stream",
     "text": [
      "HEAP\n"
     ]
    },
    {
     "data": {
      "text/html": [
       "<pre style=\"white-space:pre;overflow-x:auto;line-height:normal;font-family:Menlo,'DejaVu Sans Mono',consolas,'Courier New',monospace\"><span style=\"font-style: italic\"> Size 10 | n log n: 33.2193 | 1.5 n log n: 49.8289  </span>\n",
       "┏━━━━━━━━━━━━━┳━━━━━━━━━┳━━━━━━━━━┳━━━━━━━━━━━━━━━━┓\n",
       "┃<span style=\"font-weight: bold\">             </span>┃<span style=\"font-weight: bold\"> Sorted  </span>┃<span style=\"font-weight: bold\"> Reverse </span>┃<span style=\"font-weight: bold\"> Random Shuffle </span>┃\n",
       "┡━━━━━━━━━━━━━╇━━━━━━━━━╇━━━━━━━━━╇━━━━━━━━━━━━━━━━┩\n",
       "│ Comparisons │ 42.0    │ 29.0    │ 37.053         │\n",
       "│ Time        │ 647.783 │ 527.506 │ 799.833        │\n",
       "└─────────────┴─────────┴─────────┴────────────────┘\n",
       "</pre>\n"
      ],
      "text/plain": [
       "\u001b[3m Size 10 | n log n: 33.2193 | 1.5 n log n: 49.8289  \u001b[0m\n",
       "┏━━━━━━━━━━━━━┳━━━━━━━━━┳━━━━━━━━━┳━━━━━━━━━━━━━━━━┓\n",
       "┃\u001b[1m \u001b[0m\u001b[1m           \u001b[0m\u001b[1m \u001b[0m┃\u001b[1m \u001b[0m\u001b[1mSorted \u001b[0m\u001b[1m \u001b[0m┃\u001b[1m \u001b[0m\u001b[1mReverse\u001b[0m\u001b[1m \u001b[0m┃\u001b[1m \u001b[0m\u001b[1mRandom Shuffle\u001b[0m\u001b[1m \u001b[0m┃\n",
       "┡━━━━━━━━━━━━━╇━━━━━━━━━╇━━━━━━━━━╇━━━━━━━━━━━━━━━━┩\n",
       "│ Comparisons │ 42.0    │ 29.0    │ 37.053         │\n",
       "│ Time        │ 647.783 │ 527.506 │ 799.833        │\n",
       "└─────────────┴─────────┴─────────┴────────────────┘\n"
      ]
     },
     "metadata": {},
     "output_type": "display_data"
    },
    {
     "data": {
      "text/html": [
       "<pre style=\"white-space:pre;overflow-x:auto;line-height:normal;font-family:Menlo,'DejaVu Sans Mono',consolas,'Courier New',monospace\"><span style=\"font-style: italic\">  Size 100 | n log n: 664.3856 | 1.5 n log n: 996.5784  </span>\n",
       "┏━━━━━━━━━━━━━┳━━━━━━━━━━━┳━━━━━━━━━━━┳━━━━━━━━━━━━━━━━┓\n",
       "┃<span style=\"font-weight: bold\">             </span>┃<span style=\"font-weight: bold\"> Sorted    </span>┃<span style=\"font-weight: bold\"> Reverse   </span>┃<span style=\"font-weight: bold\"> Random Shuffle </span>┃\n",
       "┡━━━━━━━━━━━━━╇━━━━━━━━━━━╇━━━━━━━━━━━╇━━━━━━━━━━━━━━━━┩\n",
       "│ Comparisons │ 954.0     │ 745.0     │ 850.639        │\n",
       "│ Time        │ 17439.123 │ 14668.874 │ 17756.709      │\n",
       "└─────────────┴───────────┴───────────┴────────────────┘\n",
       "</pre>\n"
      ],
      "text/plain": [
       "\u001b[3m  Size 100 | n log n: 664.3856 | 1.5 n log n: 996.5784  \u001b[0m\n",
       "┏━━━━━━━━━━━━━┳━━━━━━━━━━━┳━━━━━━━━━━━┳━━━━━━━━━━━━━━━━┓\n",
       "┃\u001b[1m \u001b[0m\u001b[1m           \u001b[0m\u001b[1m \u001b[0m┃\u001b[1m \u001b[0m\u001b[1mSorted   \u001b[0m\u001b[1m \u001b[0m┃\u001b[1m \u001b[0m\u001b[1mReverse  \u001b[0m\u001b[1m \u001b[0m┃\u001b[1m \u001b[0m\u001b[1mRandom Shuffle\u001b[0m\u001b[1m \u001b[0m┃\n",
       "┡━━━━━━━━━━━━━╇━━━━━━━━━━━╇━━━━━━━━━━━╇━━━━━━━━━━━━━━━━┩\n",
       "│ Comparisons │ 954.0     │ 745.0     │ 850.639        │\n",
       "│ Time        │ 17439.123 │ 14668.874 │ 17756.709      │\n",
       "└─────────────┴───────────┴───────────┴────────────────┘\n"
      ]
     },
     "metadata": {},
     "output_type": "display_data"
    },
    {
     "data": {
      "text/html": [
       "<pre style=\"white-space:pre;overflow-x:auto;line-height:normal;font-family:Menlo,'DejaVu Sans Mono',consolas,'Courier New',monospace\"><span style=\"font-style: italic\">Size 1000 | n log n: 9965.7843 | 1.5 n log n: 14948.6764 </span>\n",
       "┏━━━━━━━━━━━━━┳━━━━━━━━━━━┳━━━━━━━━━━━━┳━━━━━━━━━━━━━━━━┓\n",
       "┃<span style=\"font-weight: bold\">             </span>┃<span style=\"font-weight: bold\"> Sorted    </span>┃<span style=\"font-weight: bold\"> Reverse    </span>┃<span style=\"font-weight: bold\"> Random Shuffle </span>┃\n",
       "┡━━━━━━━━━━━━━╇━━━━━━━━━━━╇━━━━━━━━━━━━╇━━━━━━━━━━━━━━━━┩\n",
       "│ Comparisons │ 14632.988 │ 12170.0    │ 13484.568      │\n",
       "│ Time        │ 255209.29 │ 235174.217 │ 268415.58      │\n",
       "└─────────────┴───────────┴────────────┴────────────────┘\n",
       "</pre>\n"
      ],
      "text/plain": [
       "\u001b[3mSize 1000 | n log n: 9965.7843 | 1.5 n log n: 14948.6764 \u001b[0m\n",
       "┏━━━━━━━━━━━━━┳━━━━━━━━━━━┳━━━━━━━━━━━━┳━━━━━━━━━━━━━━━━┓\n",
       "┃\u001b[1m \u001b[0m\u001b[1m           \u001b[0m\u001b[1m \u001b[0m┃\u001b[1m \u001b[0m\u001b[1mSorted   \u001b[0m\u001b[1m \u001b[0m┃\u001b[1m \u001b[0m\u001b[1mReverse   \u001b[0m\u001b[1m \u001b[0m┃\u001b[1m \u001b[0m\u001b[1mRandom Shuffle\u001b[0m\u001b[1m \u001b[0m┃\n",
       "┡━━━━━━━━━━━━━╇━━━━━━━━━━━╇━━━━━━━━━━━━╇━━━━━━━━━━━━━━━━┩\n",
       "│ Comparisons │ 14632.988 │ 12170.0    │ 13484.568      │\n",
       "│ Time        │ 255209.29 │ 235174.217 │ 268415.58      │\n",
       "└─────────────┴───────────┴────────────┴────────────────┘\n"
      ]
     },
     "metadata": {},
     "output_type": "display_data"
    },
    {
     "data": {
      "text/html": [
       "<pre style=\"white-space:pre;overflow-x:auto;line-height:normal;font-family:Menlo,'DejaVu Sans Mono',consolas,'Courier New',monospace\"><span style=\"font-style: italic\">Size 10000 | n log n: 132877.1238 | 1.5 n log n: 199315.6857</span>\n",
       "┏━━━━━━━━━━━━━┳━━━━━━━━━━━━━┳━━━━━━━━━━━━━┳━━━━━━━━━━━━━━━━┓\n",
       "┃<span style=\"font-weight: bold\">             </span>┃<span style=\"font-weight: bold\"> Sorted      </span>┃<span style=\"font-weight: bold\"> Reverse     </span>┃<span style=\"font-weight: bold\"> Random Shuffle </span>┃\n",
       "┡━━━━━━━━━━━━━╇━━━━━━━━━━━━━╇━━━━━━━━━━━━━╇━━━━━━━━━━━━━━━━┩\n",
       "│ Comparisons │ 196227.027  │ 171953.701  │ 184434.863     │\n",
       "│ Time        │ 3376442.951 │ 3154233.431 │ 4636465.839    │\n",
       "└─────────────┴─────────────┴─────────────┴────────────────┘\n",
       "</pre>\n"
      ],
      "text/plain": [
       "\u001b[3mSize 10000 | n log n: 132877.1238 | 1.5 n log n: 199315.6857\u001b[0m\n",
       "┏━━━━━━━━━━━━━┳━━━━━━━━━━━━━┳━━━━━━━━━━━━━┳━━━━━━━━━━━━━━━━┓\n",
       "┃\u001b[1m \u001b[0m\u001b[1m           \u001b[0m\u001b[1m \u001b[0m┃\u001b[1m \u001b[0m\u001b[1mSorted     \u001b[0m\u001b[1m \u001b[0m┃\u001b[1m \u001b[0m\u001b[1mReverse    \u001b[0m\u001b[1m \u001b[0m┃\u001b[1m \u001b[0m\u001b[1mRandom Shuffle\u001b[0m\u001b[1m \u001b[0m┃\n",
       "┡━━━━━━━━━━━━━╇━━━━━━━━━━━━━╇━━━━━━━━━━━━━╇━━━━━━━━━━━━━━━━┩\n",
       "│ Comparisons │ 196227.027  │ 171953.701  │ 184434.863     │\n",
       "│ Time        │ 3376442.951 │ 3154233.431 │ 4636465.839    │\n",
       "└─────────────┴─────────────┴─────────────┴────────────────┘\n"
      ]
     },
     "metadata": {},
     "output_type": "display_data"
    }
   ],
   "source": [
    "print(\"HEAP\")\n",
    "pretty_print_data(heapdfs, 10)\n",
    "pretty_print_data(heapdfs, 100)\n",
    "pretty_print_data(heapdfs, 1000)\n",
    "pretty_print_data(heapdfs, 10000)"
   ]
  },
  {
   "cell_type": "code",
   "execution_count": 137,
   "metadata": {},
   "outputs": [
    {
     "name": "stdout",
     "output_type": "stream",
     "text": [
      "QUICK\n"
     ]
    },
    {
     "data": {
      "text/html": [
       "<pre style=\"white-space:pre;overflow-x:auto;line-height:normal;font-family:Menlo,'DejaVu Sans Mono',consolas,'Courier New',monospace\"><span style=\"font-style: italic\"> Size 10 | n log n: 33.2193 | 1.5 n log n: 49.8289 </span>\n",
       "┏━━━━━━━━━━━━━┳━━━━━━━━┳━━━━━━━━━┳━━━━━━━━━━━━━━━━┓\n",
       "┃<span style=\"font-weight: bold\">             </span>┃<span style=\"font-weight: bold\"> Sorted </span>┃<span style=\"font-weight: bold\"> Reverse </span>┃<span style=\"font-weight: bold\"> Random Shuffle </span>┃\n",
       "┡━━━━━━━━━━━━━╇━━━━━━━━╇━━━━━━━━━╇━━━━━━━━━━━━━━━━┩\n",
       "│ Comparisons │ 29.0   │ 49.0    │ 28.42          │\n",
       "│ Time        │ 516.21 │ 710.514 │ 717.614        │\n",
       "└─────────────┴────────┴─────────┴────────────────┘\n",
       "</pre>\n"
      ],
      "text/plain": [
       "\u001b[3m Size 10 | n log n: 33.2193 | 1.5 n log n: 49.8289 \u001b[0m\n",
       "┏━━━━━━━━━━━━━┳━━━━━━━━┳━━━━━━━━━┳━━━━━━━━━━━━━━━━┓\n",
       "┃\u001b[1m \u001b[0m\u001b[1m           \u001b[0m\u001b[1m \u001b[0m┃\u001b[1m \u001b[0m\u001b[1mSorted\u001b[0m\u001b[1m \u001b[0m┃\u001b[1m \u001b[0m\u001b[1mReverse\u001b[0m\u001b[1m \u001b[0m┃\u001b[1m \u001b[0m\u001b[1mRandom Shuffle\u001b[0m\u001b[1m \u001b[0m┃\n",
       "┡━━━━━━━━━━━━━╇━━━━━━━━╇━━━━━━━━━╇━━━━━━━━━━━━━━━━┩\n",
       "│ Comparisons │ 29.0   │ 49.0    │ 28.42          │\n",
       "│ Time        │ 516.21 │ 710.514 │ 717.614        │\n",
       "└─────────────┴────────┴─────────┴────────────────┘\n"
      ]
     },
     "metadata": {},
     "output_type": "display_data"
    },
    {
     "data": {
      "text/html": [
       "<pre style=\"white-space:pre;overflow-x:auto;line-height:normal;font-family:Menlo,'DejaVu Sans Mono',consolas,'Courier New',monospace\"><span style=\"font-style: italic\">  Size 100 | n log n: 664.3856 | 1.5 n log n: 996.5784  </span>\n",
       "┏━━━━━━━━━━━━━┳━━━━━━━━━━━┳━━━━━━━━━━━┳━━━━━━━━━━━━━━━━┓\n",
       "┃<span style=\"font-weight: bold\">             </span>┃<span style=\"font-weight: bold\"> Sorted    </span>┃<span style=\"font-weight: bold\"> Reverse   </span>┃<span style=\"font-weight: bold\"> Random Shuffle </span>┃\n",
       "┡━━━━━━━━━━━━━╇━━━━━━━━━━━╇━━━━━━━━━━━╇━━━━━━━━━━━━━━━━┩\n",
       "│ Comparisons │ 2549.0    │ 4999.0    │ 694.842        │\n",
       "│ Time        │ 22608.041 │ 36715.609 │ 13605.367      │\n",
       "└─────────────┴───────────┴───────────┴────────────────┘\n",
       "</pre>\n"
      ],
      "text/plain": [
       "\u001b[3m  Size 100 | n log n: 664.3856 | 1.5 n log n: 996.5784  \u001b[0m\n",
       "┏━━━━━━━━━━━━━┳━━━━━━━━━━━┳━━━━━━━━━━━┳━━━━━━━━━━━━━━━━┓\n",
       "┃\u001b[1m \u001b[0m\u001b[1m           \u001b[0m\u001b[1m \u001b[0m┃\u001b[1m \u001b[0m\u001b[1mSorted   \u001b[0m\u001b[1m \u001b[0m┃\u001b[1m \u001b[0m\u001b[1mReverse  \u001b[0m\u001b[1m \u001b[0m┃\u001b[1m \u001b[0m\u001b[1mRandom Shuffle\u001b[0m\u001b[1m \u001b[0m┃\n",
       "┡━━━━━━━━━━━━━╇━━━━━━━━━━━╇━━━━━━━━━━━╇━━━━━━━━━━━━━━━━┩\n",
       "│ Comparisons │ 2549.0    │ 4999.0    │ 694.842        │\n",
       "│ Time        │ 22608.041 │ 36715.609 │ 13605.367      │\n",
       "└─────────────┴───────────┴───────────┴────────────────┘\n"
      ]
     },
     "metadata": {},
     "output_type": "display_data"
    },
    {
     "data": {
      "text/html": [
       "<pre style=\"white-space:pre;overflow-x:auto;line-height:normal;font-family:Menlo,'DejaVu Sans Mono',consolas,'Courier New',monospace\"><span style=\"font-style: italic\">  Size 1000 | n log n: 9965.7843 | 1.5 n log n: 14948.6764  </span>\n",
       "┏━━━━━━━━━━━━━┳━━━━━━━━━━━━━┳━━━━━━━━━━━━━┳━━━━━━━━━━━━━━━━┓\n",
       "┃<span style=\"font-weight: bold\">             </span>┃<span style=\"font-weight: bold\"> Sorted      </span>┃<span style=\"font-weight: bold\"> Reverse     </span>┃<span style=\"font-weight: bold\"> Random Shuffle </span>┃\n",
       "┡━━━━━━━━━━━━━╇━━━━━━━━━━━━━╇━━━━━━━━━━━━━╇━━━━━━━━━━━━━━━━┩\n",
       "│ Comparisons │ 250499.414  │ 499997.692  │ 11496.98       │\n",
       "│ Time        │ 1948921.775 │ 3231777.214 │ 198635.583     │\n",
       "└─────────────┴─────────────┴─────────────┴────────────────┘\n",
       "</pre>\n"
      ],
      "text/plain": [
       "\u001b[3m  Size 1000 | n log n: 9965.7843 | 1.5 n log n: 14948.6764  \u001b[0m\n",
       "┏━━━━━━━━━━━━━┳━━━━━━━━━━━━━┳━━━━━━━━━━━━━┳━━━━━━━━━━━━━━━━┓\n",
       "┃\u001b[1m \u001b[0m\u001b[1m           \u001b[0m\u001b[1m \u001b[0m┃\u001b[1m \u001b[0m\u001b[1mSorted     \u001b[0m\u001b[1m \u001b[0m┃\u001b[1m \u001b[0m\u001b[1mReverse    \u001b[0m\u001b[1m \u001b[0m┃\u001b[1m \u001b[0m\u001b[1mRandom Shuffle\u001b[0m\u001b[1m \u001b[0m┃\n",
       "┡━━━━━━━━━━━━━╇━━━━━━━━━━━━━╇━━━━━━━━━━━━━╇━━━━━━━━━━━━━━━━┩\n",
       "│ Comparisons │ 250499.414  │ 499997.692  │ 11496.98       │\n",
       "│ Time        │ 1948921.775 │ 3231777.214 │ 198635.583     │\n",
       "└─────────────┴─────────────┴─────────────┴────────────────┘\n"
      ]
     },
     "metadata": {},
     "output_type": "display_data"
    },
    {
     "data": {
      "text/html": [
       "<pre style=\"white-space:pre;overflow-x:auto;line-height:normal;font-family:Menlo,'DejaVu Sans Mono',consolas,'Courier New',monospace\"><span style=\"font-style: italic\">  Size 10000 | n log n: 132877.1238 | 1.5 n log n: 199315.6857  </span>\n",
       "┏━━━━━━━━━━━━━┳━━━━━━━━━━━━━━━┳━━━━━━━━━━━━━━━┳━━━━━━━━━━━━━━━━┓\n",
       "┃<span style=\"font-weight: bold\">             </span>┃<span style=\"font-weight: bold\"> Sorted        </span>┃<span style=\"font-weight: bold\"> Reverse       </span>┃<span style=\"font-weight: bold\"> Random Shuffle </span>┃\n",
       "┡━━━━━━━━━━━━━╇━━━━━━━━━━━━━━━╇━━━━━━━━━━━━━━━╇━━━━━━━━━━━━━━━━┩\n",
       "│ Comparisons │ 25004925.819  │ 49998684.722  │ 160695.07      │\n",
       "│ Time        │ 189666059.368 │ 319570741.156 │ 2741025.421    │\n",
       "└─────────────┴───────────────┴───────────────┴────────────────┘\n",
       "</pre>\n"
      ],
      "text/plain": [
       "\u001b[3m  Size 10000 | n log n: 132877.1238 | 1.5 n log n: 199315.6857  \u001b[0m\n",
       "┏━━━━━━━━━━━━━┳━━━━━━━━━━━━━━━┳━━━━━━━━━━━━━━━┳━━━━━━━━━━━━━━━━┓\n",
       "┃\u001b[1m \u001b[0m\u001b[1m           \u001b[0m\u001b[1m \u001b[0m┃\u001b[1m \u001b[0m\u001b[1mSorted       \u001b[0m\u001b[1m \u001b[0m┃\u001b[1m \u001b[0m\u001b[1mReverse      \u001b[0m\u001b[1m \u001b[0m┃\u001b[1m \u001b[0m\u001b[1mRandom Shuffle\u001b[0m\u001b[1m \u001b[0m┃\n",
       "┡━━━━━━━━━━━━━╇━━━━━━━━━━━━━━━╇━━━━━━━━━━━━━━━╇━━━━━━━━━━━━━━━━┩\n",
       "│ Comparisons │ 25004925.819  │ 49998684.722  │ 160695.07      │\n",
       "│ Time        │ 189666059.368 │ 319570741.156 │ 2741025.421    │\n",
       "└─────────────┴───────────────┴───────────────┴────────────────┘\n"
      ]
     },
     "metadata": {},
     "output_type": "display_data"
    }
   ],
   "source": [
    "print(\"QUICK\")\n",
    "pretty_print_data(quickdfs, 10)\n",
    "pretty_print_data(quickdfs, 100)\n",
    "pretty_print_data(quickdfs, 1000)\n",
    "pretty_print_data(quickdfs, 10000)"
   ]
  },
  {
   "cell_type": "code",
   "execution_count": null,
   "metadata": {},
   "outputs": [],
   "source": []
  }
 ],
 "metadata": {
  "kernelspec": {
   "display_name": "venv",
   "language": "python",
   "name": "python3"
  },
  "language_info": {
   "codemirror_mode": {
    "name": "ipython",
    "version": 3
   },
   "file_extension": ".py",
   "mimetype": "text/x-python",
   "name": "python",
   "nbconvert_exporter": "python",
   "pygments_lexer": "ipython3",
   "version": "3.9.6"
  }
 },
 "nbformat": 4,
 "nbformat_minor": 2
}
